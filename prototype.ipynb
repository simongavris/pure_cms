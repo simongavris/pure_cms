{
 "cells": [
  {
   "cell_type": "code",
   "execution_count": null,
   "id": "e244bb54",
   "metadata": {},
   "outputs": [],
   "source": [
    "import markdown\n",
    "from os import walk, makedirs\n",
    "import shutil"
   ]
  },
  {
   "cell_type": "code",
   "execution_count": null,
   "id": "7fb61c96",
   "metadata": {},
   "outputs": [],
   "source": [
    "input_dir = 'blog/publish/'\n",
    "output_blog_dir = 'html/blog/'\n",
    "output_asstes_dir = 'html/assets/'\n",
    "\n",
    "#relative path to assets from blogs\n",
    "rel_path_assets_blog = '../assets/'\n",
    "\n",
    "valid_asset_file_extension = ('.png', '.jpg', '.jpeg')"
   ]
  },
  {
   "cell_type": "code",
   "execution_count": null,
   "id": "79812327",
   "metadata": {},
   "outputs": [],
   "source": [
    "posts_files = []\n",
    "posts_dirs = []\n",
    "for (dirpath, dirnames, filenames) in walk(input_dir):\n",
    "    posts_files.extend(filenames)\n",
    "    posts_dirs.extend(dirnames)\n",
    "    break"
   ]
  },
  {
   "cell_type": "code",
   "execution_count": null,
   "id": "81f15642",
   "metadata": {},
   "outputs": [],
   "source": [
    "def file_to_html(input_path, output_path):\n",
    "    markdown.markdownFromFile(\n",
    "        input=input_path,\n",
    "        output=output_path,\n",
    "        encoding='utf8',\n",
    "    )"
   ]
  },
  {
   "cell_type": "code",
   "execution_count": null,
   "id": "afaba1bb",
   "metadata": {},
   "outputs": [],
   "source": [
    "shutil.rmtree(output_dir, ignore_errors=True)\n",
    "makedirs(output_dir, exist_ok=True)\n",
    "makedirs(output_asstes_dir, exist_ok=True)\n",
    "\n",
    "#posts without assets (as single files)\n",
    "for f in posts_files:\n",
    "    #create paths\n",
    "    input_path = input_dir + f\n",
    "    output_path = output_blog_dir + f.rsplit('.', 1)[0] + '.html'\n",
    "    #transpile\n",
    "    file_to_html(input_path, output_path)\n",
    "\n",
    "#posts with assets (in folders)\n",
    "for d in posts_dirs:\n",
    "    #dict for temp storing assets path changes\n",
    "    asset_paths = {}\n",
    "    \n",
    "    #create paths\n",
    "    input_path = input_dir + d + '/'\n",
    "    output_path = output_blog_dir + d + '/'\n",
    "\n",
    "    #iterate through input_path\n",
    "    for root, dirs, files in walk(input_path):\n",
    "        for file in files:\n",
    "            # copy all assets\n",
    "            if file.endswith(valid_asset_file_extension):\n",
    "                i_path = input_path + file\n",
    "                o_path = output_asstes_dir + file\n",
    "                shutil.copyfile(i_path, o_path)\n",
    "                #store original path an d\n",
    "                asset_paths[file] = rel_path_assets_blog +  file\n",
    "            # transpile all md into html and put to output_blog_dir\n",
    "            if file.endswith(\".md\"):\n",
    "                o_file_path = output_blog_dir + file.rsplit('.', 1)[0] + '.html'\n",
    "                file_to_html(input_path + file, o_file_path)\n",
    "                #replace the assetes path with new assets path\n",
    "\n",
    "                with open(o_file_path, 'r') as file :\n",
    "                  filedata = file.read()\n",
    "\n",
    "                for original_path in asset_paths:\n",
    "                    filedata = filedata.replace(original_path, asset_paths[original_path])\n",
    "\n",
    "                # Write the file out again\n",
    "                with open(o_file_path, 'w') as file:\n",
    "                  file.write(filedata)"
   ]
  }
 ],
 "metadata": {
  "kernelspec": {
   "display_name": "Python 3",
   "language": "python",
   "name": "python3"
  },
  "language_info": {
   "codemirror_mode": {
    "name": "ipython",
    "version": 3
   },
   "file_extension": ".py",
   "mimetype": "text/x-python",
   "name": "python",
   "nbconvert_exporter": "python",
   "pygments_lexer": "ipython3",
   "version": "3.8.3"
  }
 },
 "nbformat": 4,
 "nbformat_minor": 5
}
