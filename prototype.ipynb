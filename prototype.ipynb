{
 "cells": [
  {
   "cell_type": "code",
   "execution_count": 1,
   "id": "3a955795",
   "metadata": {},
   "outputs": [],
   "source": [
    "import markdown\n",
    "from os import walk, makedirs\n",
    "import shutil\n",
    "from dateutil import parser"
   ]
  },
  {
   "cell_type": "code",
   "execution_count": 2,
   "id": "abc80456",
   "metadata": {},
   "outputs": [],
   "source": [
    "input_dir = 'blog/publish/'\n",
    "output_blog_dir = 'dist/blog/'\n",
    "output_asstes_dir = 'dist/assets/'\n",
    "\n",
    "#relative path to assets from blogs\n",
    "rel_path_assets_blog = '../assets/'\n",
    "\n",
    "valid_asset_file_extension = ('.png', '.jpg', '.jpeg')\n"
   ]
  },
  {
   "cell_type": "code",
   "execution_count": 3,
   "id": "79a07812",
   "metadata": {},
   "outputs": [],
   "source": [
    "posts_files = []\n",
    "posts_dirs = []\n",
    "for (dirpath, dirnames, filenames) in walk(input_dir):\n",
    "    posts_files.extend(filenames)\n",
    "    posts_dirs.extend(dirnames)\n",
    "    break"
   ]
  },
  {
   "cell_type": "code",
   "execution_count": 4,
   "id": "d9736d30",
   "metadata": {},
   "outputs": [],
   "source": [
    "def file_to_html(input_path, output_path):\n",
    "    markdown.markdownFromFile(\n",
    "        input=input_path,\n",
    "        output=output_path,\n",
    "        encoding='utf8',\n",
    "    )"
   ]
  },
  {
   "cell_type": "code",
   "execution_count": 13,
   "id": "f1653d54",
   "metadata": {},
   "outputs": [
    {
     "name": "stdout",
     "output_type": "stream",
     "text": [
      "[{'date': '20.03.2022', 'title': 'How to add nautilus \"Open in Terminator\" option'}, {'date': '23.04.2022', 'title': 'Using react to create a Blog and Portfolio with Markdown files as a CMS'}, {'date': '23.04.2022', 'title': 'Sample Entry'}]\n"
     ]
    }
   ],
   "source": [
    "shutil.rmtree(output_blog_dir, ignore_errors=True)\n",
    "makedirs(output_blog_dir, exist_ok=True)\n",
    "makedirs(output_asstes_dir, exist_ok=True)\n",
    "\n",
    "#dict for storing all posts meta data (date + time)\n",
    "posts = []\n",
    "\n",
    "#posts without assets (as single files)\n",
    "for f in posts_files:\n",
    "    #create paths\n",
    "    input_path = input_dir + f\n",
    "    \n",
    "    post = {}\n",
    "    temp = f.split('_', 1)\n",
    "    \n",
    "    #parse date from file name\n",
    "    post['date'] = parser.parse(temp[0]).strftime(\"%d.%m.%Y\")\n",
    "    #parse title from first header in file\n",
    "    with open(input_path, 'r') as file:\n",
    "        content = file.read()\n",
    "        post[\"title\"] = content.split(\"\\n\")[0][2:]\n",
    "    \n",
    "    #new output file path\n",
    "    output_path = output_blog_dir + f.rsplit('.', 1)[0] + '.html'\n",
    "    #transpile\n",
    "    file_to_html(input_path, output_path)\n",
    "    posts.append(post)\n",
    "    \n",
    "\n",
    "#posts with assets (in folders)\n",
    "for d in posts_dirs:\n",
    "    #temp dict for storing assets path changes\n",
    "    asset_paths = {}\n",
    "    \n",
    "    #create paths\n",
    "    input_path = input_dir + d + '/'\n",
    "    output_path = output_blog_dir + d + '/'\n",
    "\n",
    "    #iterate through input_path\n",
    "    for root, dirs, files in walk(input_path):\n",
    "        for file in files:\n",
    "            # copy all assets\n",
    "            if file.endswith(valid_asset_file_extension):\n",
    "                i_path = input_path + file\n",
    "                o_path = output_asstes_dir + file\n",
    "                shutil.copyfile(i_path, o_path)\n",
    "                #store original path an d\n",
    "                asset_paths[file] = rel_path_assets_blog +  file\n",
    "                \n",
    "            # transpile all md into html and put to output_blog_dir\n",
    "            if file.endswith(\".md\"):\n",
    "                i_file_path = input_path + file\n",
    "                post = {}\n",
    "                temp = f.split('_', 1)\n",
    "\n",
    "                #parse date from file name\n",
    "                post['date'] = parser.parse(temp[0]).strftime(\"%d.%m.%Y\")\n",
    "                #parse title from first header in file\n",
    "                with open(i_file_path, 'r') as f:\n",
    "                    content = f.read()\n",
    "                    post[\"title\"] = content.split(\"\\n\")[0][2:]\n",
    "                \n",
    "                #new output file path\n",
    "                o_file_path = output_blog_dir + file.rsplit('.', 1)[0] + '.html'\n",
    "                \n",
    "                file_to_html(i_file_path, o_file_path)\n",
    "                #replace the assetes path with new assets path\n",
    "                with open(o_file_path, 'r') as file :\n",
    "                  filedata = file.read()\n",
    "\n",
    "                for original_path in asset_paths:\n",
    "                    filedata = filedata.replace(original_path, asset_paths[original_path])\n",
    "\n",
    "                # Write the file out again\n",
    "                with open(o_file_path, 'w') as file:\n",
    "                  file.write(filedata)\n",
    " \n",
    "                posts.append(post)\n",
    "\n",
    "                \n",
    "                \n",
    "print(posts)"
   ]
  }
 ],
 "metadata": {
  "kernelspec": {
   "display_name": "Python 3",
   "language": "python",
   "name": "python3"
  },
  "language_info": {
   "codemirror_mode": {
    "name": "ipython",
    "version": 3
   },
   "file_extension": ".py",
   "mimetype": "text/x-python",
   "name": "python",
   "nbconvert_exporter": "python",
   "pygments_lexer": "ipython3",
   "version": "3.8.3"
  }
 },
 "nbformat": 4,
 "nbformat_minor": 5
}
